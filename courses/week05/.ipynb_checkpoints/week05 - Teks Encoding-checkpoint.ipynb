{
 "cells": [
  {
   "cell_type": "markdown",
   "id": "8e0e3889",
   "metadata": {},
   "source": [
    "# One-hot untuk kata"
   ]
  },
  {
   "cell_type": "code",
   "execution_count": 1,
   "id": "2b25ca1e",
   "metadata": {},
   "outputs": [
    {
     "name": "stdout",
     "output_type": "stream",
     "text": [
      "Token Index: {'Kucing': 1, 'itu': 2, 'duduk': 3, 'di': 4, 'atas': 5, 'tikar.': 6, 'Anjing': 7, 'memakan': 8, 'PR': 9, 'saya.': 10}\n",
      "One-Hot Encoded Tensor Shape: (2, 10, 11)\n",
      "One-Hot Encoded Tensor (Sample 0):\n",
      " [[0. 1. 0. 0. 0. 0. 0. 0. 0. 0. 0.]\n",
      " [0. 0. 1. 0. 0. 0. 0. 0. 0. 0. 0.]\n",
      " [0. 0. 0. 1. 0. 0. 0. 0. 0. 0. 0.]\n",
      " [0. 0. 0. 0. 1. 0. 0. 0. 0. 0. 0.]\n",
      " [0. 0. 0. 0. 0. 1. 0. 0. 0. 0. 0.]\n",
      " [0. 0. 0. 0. 0. 0. 1. 0. 0. 0. 0.]\n",
      " [0. 0. 0. 0. 0. 0. 0. 0. 0. 0. 0.]\n",
      " [0. 0. 0. 0. 0. 0. 0. 0. 0. 0. 0.]\n",
      " [0. 0. 0. 0. 0. 0. 0. 0. 0. 0. 0.]\n",
      " [0. 0. 0. 0. 0. 0. 0. 0. 0. 0. 0.]]\n"
     ]
    }
   ],
   "source": [
    "import numpy as np\n",
    "\n",
    "samples = ['Kucing itu duduk di atas tikar.', 'Anjing memakan PR saya.']\n",
    "\n",
    "token_index = {}\n",
    "for sample in samples:\n",
    "    for word in sample.split():\n",
    "        if word not in token_index:\n",
    "            token_index[word] = len(token_index) + 1\n",
    "\n",
    "max_length = 10\n",
    "\n",
    "results = np.zeros((len(samples), max_length, max(token_index.values()) + 1))\n",
    "\n",
    "for i, sample in enumerate(samples):\n",
    "    for j, word in list(enumerate(sample.split()))[:max_length]:\n",
    "        index = token_index.get(word)\n",
    "        results[i, j, index] = 1\n",
    "\n",
    "print(\"Token Index:\", token_index)\n",
    "print(\"One-Hot Encoded Tensor Shape:\", results.shape)\n",
    "print(\"One-Hot Encoded Tensor (Sample 0):\\n\", results[0])\n"
   ]
  },
  {
   "cell_type": "markdown",
   "id": "e5b4fc14",
   "metadata": {},
   "source": [
    "# One-hot untuk karakter"
   ]
  },
  {
   "cell_type": "code",
   "execution_count": 2,
   "id": "210dfe68",
   "metadata": {},
   "outputs": [
    {
     "name": "stdout",
     "output_type": "stream",
     "text": [
      "Token Index Sample: {1: '0', 2: '1', 3: '2', 4: '3', 5: '4', 6: '5', 7: '6', 8: '7', 9: '8', 10: '9'}\n",
      "One-Hot Encoded Tensor Shape: (2, 50, 101)\n",
      "One-Hot Encoded Tensor (Sample 0):\n",
      " [[0. 0. 0. ... 0. 0. 0.]\n",
      " [0. 0. 0. ... 0. 0. 0.]\n",
      " [0. 0. 0. ... 0. 0. 0.]\n",
      " ...\n",
      " [0. 0. 0. ... 0. 0. 0.]\n",
      " [0. 0. 0. ... 0. 0. 0.]\n",
      " [0. 0. 0. ... 0. 0. 0.]]\n"
     ]
    }
   ],
   "source": [
    "import string \n",
    "\n",
    "samples = ['Kucing itu duduk di atas tikar.', 'Anjing memakan PR saya.']\n",
    "characters = string.printable\n",
    "token_index = dict(zip(range(1, len(characters) + 1), characters))\n",
    "\n",
    "max_length = 50\n",
    "results = np.zeros((len(samples), max_length, max(token_index.keys()) + 1))\n",
    "\n",
    "for i, sample in enumerate(samples):\n",
    "    for j, character in enumerate(sample):\n",
    "        if j >= max_length:\n",
    "            break\n",
    "        index = list(token_index.keys())[list(token_index.values()).index(character)] if character in token_index.values() else 0\n",
    "        results[i, j, index] = 1\n",
    "\n",
    "print(\"Token Index Sample:\", dict(list(token_index.items())[:10]))\n",
    "print(\"One-Hot Encoded Tensor Shape:\", results.shape)\n",
    "print(\"One-Hot Encoded Tensor (Sample 0):\\n\", results[0])"
   ]
  },
  {
   "cell_type": "markdown",
   "id": "4b654a15",
   "metadata": {},
   "source": [
    "# One-hot dengan PyTorch"
   ]
  },
  {
   "cell_type": "code",
   "execution_count": 4,
   "id": "bf6c26bc",
   "metadata": {},
   "outputs": [
    {
     "name": "stdout",
     "output_type": "stream",
     "text": [
      "Token Index: {'kucing': 0, 'duduk': 1, 'di': 2, 'atas': 3, 'tikar': 4, 'anjing': 5, 'lari': 6, 'mengejar': 7, 'bola': 8}\n",
      "One-Hot Tensor Shape: torch.Size([2, 3, 9])\n",
      "Encoded Tensor (Sample 0):\n",
      " tensor([[1., 0., 0., 0., 0., 0., 0., 0., 0.],\n",
      "        [0., 1., 0., 0., 0., 0., 0., 0., 0.],\n",
      "        [0., 1., 0., 0., 0., 0., 0., 0., 0.]])\n"
     ]
    }
   ],
   "source": [
    "import torch\n",
    "\n",
    "samples = ['kucing duduk duduk di atas tikar', 'anjing lari mengejar bola']\n",
    "token_index = {}\n",
    "\n",
    "for sample in samples:\n",
    "    for word in sample.split():\n",
    "        if word not in token_index:\n",
    "            token_index[word] = len(token_index)\n",
    "\n",
    "vocab_size = len(token_index)\n",
    "max_length = 3\n",
    "\n",
    "results = torch.zeros((len(samples), max_length, vocab_size), dtype=torch.float32)\n",
    "\n",
    "for i, sample in enumerate(samples):\n",
    "    for j, word in enumerate(sample.split()[:max_length]):\n",
    "        index = token_index[word]\n",
    "        results[i, j, index] = 1.\n",
    "\n",
    "print(\"Token Index:\", token_index)\n",
    "print(\"One-Hot Tensor Shape:\", results.shape)\n",
    "print(\"Encoded Tensor (Sample 0):\\n\", results[0])\n"
   ]
  },
  {
   "cell_type": "code",
   "execution_count": 8,
   "id": "6d5ceccf",
   "metadata": {},
   "outputs": [
    {
     "data": {
      "image/png": "[encoded data removed]",
      "text/plain": [
       "<Figure size 400x400 with 1 Axes>"
      ]
     },
     "metadata": {},
     "output_type": "display_data"
    }
   ],
   "source": [
    "import matplotlib.pyplot as plt\n",
    "\n",
    "# Koordinat untuk setiap kata\n",
    "word_positions = {\n",
    "    \"Anjing\": (0.2, 0.3),\n",
    "    \"Serigala\": (0.2, 0.8),\n",
    "    \"Kucing\": (0.67, 0.3),\n",
    "    \"Harimau\": (0.8, 0.8)\n",
    "}\n",
    "\n",
    "# Membuat plot\n",
    "plt.figure(figsize=(4, 4))\n",
    "for word, (x, y) in word_positions.items():\n",
    "    plt.scatter(x, y, marker='x', color='black')\n",
    "    plt.text(x + 0.02, y, word, fontsize=10)\n",
    "\n",
    "# Setting sumbu\n",
    "plt.xticks([0, 1])\n",
    "plt.yticks([0, 1])\n",
    "plt.xlim(0, 1.1)\n",
    "plt.ylim(0, 1.1)\n",
    "plt.xlabel(\"X\")\n",
    "plt.ylabel(\"Y\")\n",
    "plt.title(\"A toy example of a word-embedding space\")\n",
    "plt.grid(False)\n",
    "plt.gca().set_aspect('equal', adjustable='box')\n",
    "\n",
    "plt.show()"
   ]
  }
 ],
 "metadata": {
  "kernelspec": {
   "display_name": "Python 3 (ipykernel)",
   "language": "python",
   "name": "python3"
  },
  "language_info": {
   "codemirror_mode": {
    "name": "ipython",
    "version": 3
   },
   "file_extension": ".py",
   "mimetype": "text/x-python",
   "name": "python",
   "nbconvert_exporter": "python",
   "pygments_lexer": "ipython3",
   "version": "3.9.0"
  }
 },
 "nbformat": 4,
 "nbformat_minor": 5
}
