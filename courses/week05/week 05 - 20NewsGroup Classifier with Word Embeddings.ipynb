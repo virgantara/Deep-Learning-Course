{
 "cells": [
  {
   "cell_type": "code",
   "execution_count": 1,
   "id": "674e0471",
   "metadata": {},
   "outputs": [],
   "source": [
    "import torch\n",
    "import torch.nn as nn\n",
    "import torch.optim as optim\n",
    "from datasets import load_dataset\n",
    "from torch.utils.data import DataLoader\n",
    "from torch.nn.utils.rnn import pad_sequence\n",
    "import re\n",
    "from collections import Counter\n",
    "import random\n",
    "import numpy as np\n",
    "from itertools import islice\n",
    "import pandas as pd\n",
    "from sklearn.metrics import accuracy_score\n",
    "from tqdm import tqdm\n",
    "from pathlib import Path\n",
    "from torch.utils.data import Dataset\n",
    "\n",
    "def set_seed(seed=42):\n",
    "    torch.manual_seed(seed)\n",
    "    random.seed(seed)\n",
    "    np.random.seed(seed)\n",
    "    torch.backends.cudnn.deterministic = True\n",
    "    torch.backends.cudnn.benchmark = False\n",
    "    \n",
    "set_seed(42)"
   ]
  },
  {
   "cell_type": "code",
   "execution_count": 2,
   "id": "7757f906",
   "metadata": {},
   "outputs": [],
   "source": [
    "\n",
    "class NewsGroupDataset(Dataset):\n",
    "    def __init__(self, root_dir, transform=None, tokenizer=None):\n",
    "        self.root_dir = Path(root_dir)\n",
    "        self.transform = transform\n",
    "        self.tokenizer = tokenizer\n",
    "\n",
    "        self.samples = []\n",
    "        self.classes = sorted([d.name for d in self.root_dir.iterdir() if d.is_dir()])\n",
    "        self.class_to_idx = {cls_name: idx for idx, cls_name in enumerate(self.classes)}\n",
    "\n",
    "        for cls_name in self.classes:\n",
    "            class_folder = self.root_dir / cls_name\n",
    "            for file in class_folder.iterdir():\n",
    "                if file.is_file():\n",
    "                    self.samples.append((file, self.class_to_idx[cls_name]))\n",
    "\n",
    "    def __len__(self):\n",
    "        return len(self.samples)\n",
    "\n",
    "    def __getitem__(self, idx):\n",
    "        filepath, label = self.samples[idx]\n",
    "        with open(filepath, 'r', encoding='latin1') as f:\n",
    "            text = f.read()\n",
    "\n",
    "        if self.transform:\n",
    "            text = self.transform(text)\n",
    "        if self.tokenizer:\n",
    "            text = self.tokenizer(text)\n",
    "\n",
    "        return text, label"
   ]
  },
  {
   "cell_type": "markdown",
   "id": "7467031a",
   "metadata": {},
   "source": [
    "# Saatnya Word Embeddings beraksi"
   ]
  },
  {
   "cell_type": "code",
   "execution_count": 3,
   "id": "8024d76b",
   "metadata": {},
   "outputs": [],
   "source": [
    "\n",
    "class RNNClassifier(nn.Module):\n",
    "    def __init__(self, vocab_size, embed_dim, hidden_dim, num_classes):\n",
    "        super(RNNClassifier, self).__init__()\n",
    "        self.embedding = nn.Embedding(vocab_size, embed_dim, padding_idx=0)\n",
    "        self.rnn = nn.GRU(embed_dim, hidden_dim, batch_first=True)\n",
    "        self.fc = nn.Linear(hidden_dim, num_classes)\n",
    "\n",
    "    def forward(self, x):\n",
    "        x = self.embedding(x)\n",
    "        output, hidden = self.rnn(x)\n",
    "        return self.fc(hidden[-1])  # use last hidden state"
   ]
  },
  {
   "cell_type": "code",
   "execution_count": 4,
   "id": "51f59b79",
   "metadata": {},
   "outputs": [],
   "source": [
    "def collate_fn(batch):\n",
    "    texts, labels = zip(*batch)\n",
    "    # Convert tokens to indices\n",
    "    token_ids = [torch.tensor([vocab[token] for token in tokens], dtype=torch.long) for tokens in texts]\n",
    "    padded = pad_sequence(token_ids, batch_first=True, padding_value=vocab['<pad>'])\n",
    "    return padded, torch.tensor(labels)"
   ]
  },
  {
   "cell_type": "markdown",
   "id": "1f0c965d",
   "metadata": {},
   "source": [
    "# Membangun IMBD Dataset"
   ]
  },
  {
   "cell_type": "code",
   "execution_count": 5,
   "id": "d80870a0",
   "metadata": {},
   "outputs": [],
   "source": [
    "from torch.utils.data import random_split, DataLoader\n",
    "from torchtext.vocab import build_vocab_from_iterator\n",
    "\n",
    "dataset = NewsGroupDataset(\"data/20_newsgroups\", tokenizer=str.split)\n",
    "\n",
    "# Create vocabulary from tokenized text\n",
    "def yield_tokens(dataset):\n",
    "    for text, _ in dataset:\n",
    "        yield text\n",
    "\n",
    "vocab = build_vocab_from_iterator(yield_tokens(dataset), specials=[\"<pad>\", \"<unk>\"])\n",
    "vocab.set_default_index(vocab[\"<unk>\"])"
   ]
  },
  {
   "cell_type": "markdown",
   "id": "c10d0d87",
   "metadata": {},
   "source": [
    "# Load Pre-Trained GloVe Word Embedding"
   ]
  },
  {
   "cell_type": "markdown",
   "id": "c35b4591",
   "metadata": {},
   "source": [
    "# Prepraing Word Embedding"
   ]
  },
  {
   "cell_type": "code",
   "execution_count": 6,
   "id": "3ed47bea",
   "metadata": {},
   "outputs": [],
   "source": [
    "# Split into train/test\n",
    "train_len = int(len(dataset) * 0.8)\n",
    "test_len = len(dataset) - train_len\n",
    "train_dataset, test_dataset = random_split(dataset, [train_len, test_len])\n",
    "\n",
    "train_loader = DataLoader(train_dataset, batch_size=4, shuffle=True, collate_fn=collate_fn)\n",
    "test_loader = DataLoader(test_dataset, batch_size=4, shuffle=False, collate_fn=collate_fn)\n"
   ]
  },
  {
   "cell_type": "markdown",
   "id": "7b266f6f",
   "metadata": {},
   "source": [
    "# Let's Train !!!"
   ]
  },
  {
   "cell_type": "code",
   "execution_count": null,
   "id": "777340cb",
   "metadata": {},
   "outputs": [],
   "source": [
    "from torch.optim import Adam\n",
    "\n",
    "device = torch.device(\"cuda\" if torch.cuda.is_available() else \"cpu\")\n",
    "\n",
    "model = RNNClassifier(\n",
    "    vocab_size=len(vocab),\n",
    "    embed_dim=128,\n",
    "    hidden_dim=256,\n",
    "    num_classes=20\n",
    ").to(device)\n",
    "\n",
    "\n",
    "criterion = nn.CrossEntropyLoss()\n",
    "optimizer = Adam(model.parameters(), lr=1e-3)\n",
    "\n",
    "for epoch in range(5):\n",
    "    model.train()\n",
    "    total_loss = 0\n",
    "    for texts, labels in train_loader:\n",
    "        texts, labels = texts.to(device), labels.to(device)\n",
    "\n",
    "        optimizer.zero_grad()\n",
    "        outputs = model(texts)\n",
    "        loss = criterion(outputs, labels)\n",
    "        loss.backward()\n",
    "        optimizer.step()\n",
    "\n",
    "        total_loss += loss.item()\n",
    "    \n",
    "    print(f\"Epoch {epoch+1}, Loss: {total_loss / len(train_loader):.4f}\")\n"
   ]
  },
  {
   "cell_type": "code",
   "execution_count": null,
   "id": "0d83a75c",
   "metadata": {},
   "outputs": [],
   "source": []
  }
 ],
 "metadata": {
  "kernelspec": {
   "display_name": "Python 3 (ipykernel)",
   "language": "python",
   "name": "python3"
  },
  "language_info": {
   "codemirror_mode": {
    "name": "ipython",
    "version": 3
   },
   "file_extension": ".py",
   "mimetype": "text/x-python",
   "name": "python",
   "nbconvert_exporter": "python",
   "pygments_lexer": "ipython3",
   "version": "3.9.0"
  }
 },
 "nbformat": 4,
 "nbformat_minor": 5
}
