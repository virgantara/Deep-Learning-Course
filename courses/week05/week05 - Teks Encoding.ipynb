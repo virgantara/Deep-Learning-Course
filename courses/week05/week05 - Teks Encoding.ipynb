{
 "cells": [
  {
   "cell_type": "markdown",
   "id": "cfc3ea5e",
   "metadata": {},
   "source": [
    "# One-hot untuk kata"
   ]
  },
  {
   "cell_type": "code",
   "execution_count": 1,
   "id": "48bbf87a",
   "metadata": {},
   "outputs": [
    {
     "name": "stdout",
     "output_type": "stream",
     "text": [
      "Token Index: {'Kucing': 1, 'itu': 2, 'duduk': 3, 'di': 4, 'atas': 5, 'tikar.': 6, 'Anjing': 7, 'memakan': 8, 'PR': 9, 'saya.': 10}\n",
      "One-Hot Encoded Tensor Shape: (2, 10, 11)\n",
      "One-Hot Encoded Tensor (Sample 0):\n",
      " [[0. 1. 0. 0. 0. 0. 0. 0. 0. 0. 0.]\n",
      " [0. 0. 1. 0. 0. 0. 0. 0. 0. 0. 0.]\n",
      " [0. 0. 0. 1. 0. 0. 0. 0. 0. 0. 0.]\n",
      " [0. 0. 0. 0. 1. 0. 0. 0. 0. 0. 0.]\n",
      " [0. 0. 0. 0. 0. 1. 0. 0. 0. 0. 0.]\n",
      " [0. 0. 0. 0. 0. 0. 1. 0. 0. 0. 0.]\n",
      " [0. 0. 0. 0. 0. 0. 0. 0. 0. 0. 0.]\n",
      " [0. 0. 0. 0. 0. 0. 0. 0. 0. 0. 0.]\n",
      " [0. 0. 0. 0. 0. 0. 0. 0. 0. 0. 0.]\n",
      " [0. 0. 0. 0. 0. 0. 0. 0. 0. 0. 0.]]\n"
     ]
    }
   ],
   "source": [
    "import numpy as np\n",
    "\n",
    "samples = ['Kucing itu duduk di atas tikar.', 'Anjing memakan PR saya.']\n",
    "\n",
    "token_index = {}\n",
    "for sample in samples:\n",
    "    for word in sample.split():\n",
    "        if word not in token_index:\n",
    "            token_index[word] = len(token_index) + 1\n",
    "\n",
    "max_length = 10\n",
    "\n",
    "results = np.zeros((len(samples), max_length, max(token_index.values()) + 1))\n",
    "\n",
    "for i, sample in enumerate(samples):\n",
    "    for j, word in list(enumerate(sample.split()))[:max_length]:\n",
    "        index = token_index.get(word)\n",
    "        results[i, j, index] = 1\n",
    "\n",
    "print(\"Token Index:\", token_index)\n",
    "print(\"One-Hot Encoded Tensor Shape:\", results.shape)\n",
    "print(\"One-Hot Encoded Tensor (Sample 0):\\n\", results[0])\n"
   ]
  },
  {
   "cell_type": "markdown",
   "id": "cf6ca03f",
   "metadata": {},
   "source": [
    "# One-hot untuk karakter"
   ]
  },
  {
   "cell_type": "code",
   "execution_count": 2,
   "id": "3e71fc47",
   "metadata": {},
   "outputs": [
    {
     "name": "stdout",
     "output_type": "stream",
     "text": [
      "Token Index Sample: {1: '0', 2: '1', 3: '2', 4: '3', 5: '4', 6: '5', 7: '6', 8: '7', 9: '8', 10: '9'}\n",
      "One-Hot Encoded Tensor Shape: (2, 50, 101)\n",
      "One-Hot Encoded Tensor (Sample 0):\n",
      " [[0. 0. 0. ... 0. 0. 0.]\n",
      " [0. 0. 0. ... 0. 0. 0.]\n",
      " [0. 0. 0. ... 0. 0. 0.]\n",
      " ...\n",
      " [0. 0. 0. ... 0. 0. 0.]\n",
      " [0. 0. 0. ... 0. 0. 0.]\n",
      " [0. 0. 0. ... 0. 0. 0.]]\n"
     ]
    }
   ],
   "source": [
    "import string \n",
    "\n",
    "samples = ['Kucing itu duduk di atas tikar.', 'Anjing memakan PR saya.']\n",
    "characters = string.printable\n",
    "token_index = dict(zip(range(1, len(characters) + 1), characters))\n",
    "\n",
    "max_length = 50\n",
    "results = np.zeros((len(samples), max_length, max(token_index.keys()) + 1))\n",
    "\n",
    "for i, sample in enumerate(samples):\n",
    "    for j, character in enumerate(sample):\n",
    "        if j >= max_length:\n",
    "            break\n",
    "        index = list(token_index.keys())[list(token_index.values()).index(character)] if character in token_index.values() else 0\n",
    "        results[i, j, index] = 1\n",
    "\n",
    "print(\"Token Index Sample:\", dict(list(token_index.items())[:10]))\n",
    "print(\"One-Hot Encoded Tensor Shape:\", results.shape)\n",
    "print(\"One-Hot Encoded Tensor (Sample 0):\\n\", results[0])"
   ]
  },
  {
   "cell_type": "markdown",
   "id": "8cfe5eb1",
   "metadata": {},
   "source": [
    "# One-hot dengan PyTorch"
   ]
  },
  {
   "cell_type": "code",
   "execution_count": 4,
   "id": "410052f2",
   "metadata": {},
   "outputs": [
    {
     "name": "stdout",
     "output_type": "stream",
     "text": [
      "Token Index: {'kucing': 0, 'duduk': 1, 'di': 2, 'atas': 3, 'tikar': 4, 'anjing': 5, 'lari': 6, 'mengejar': 7, 'bola': 8}\n",
      "One-Hot Tensor Shape: torch.Size([2, 3, 9])\n",
      "Encoded Tensor (Sample 0):\n",
      " tensor([[1., 0., 0., 0., 0., 0., 0., 0., 0.],\n",
      "        [0., 1., 0., 0., 0., 0., 0., 0., 0.],\n",
      "        [0., 1., 0., 0., 0., 0., 0., 0., 0.]])\n"
     ]
    }
   ],
   "source": [
    "import torch\n",
    "\n",
    "samples = ['kucing duduk duduk di atas tikar', 'anjing lari mengejar bola']\n",
    "token_index = {}\n",
    "\n",
    "for sample in samples:\n",
    "    for word in sample.split():\n",
    "        if word not in token_index:\n",
    "            token_index[word] = len(token_index)\n",
    "\n",
    "vocab_size = len(token_index)\n",
    "max_length = 3\n",
    "\n",
    "results = torch.zeros((len(samples), max_length, vocab_size), dtype=torch.float32)\n",
    "\n",
    "for i, sample in enumerate(samples):\n",
    "    for j, word in enumerate(sample.split()[:max_length]):\n",
    "        index = token_index[word]\n",
    "        results[i, j, index] = 1.\n",
    "\n",
    "print(\"Token Index:\", token_index)\n",
    "print(\"One-Hot Tensor Shape:\", results.shape)\n",
    "print(\"Encoded Tensor (Sample 0):\\n\", results[0])\n"
   ]
  },
  {
   "cell_type": "code",
   "execution_count": 11,
   "id": "98a129f9",
   "metadata": {},
   "outputs": [
    {
     "data": {
      "image/png": "[encoded data removed]",
      "text/plain": [
       "<Figure size 400x400 with 1 Axes>"
      ]
     },
     "metadata": {},
     "output_type": "display_data"
    }
   ],
   "source": [
    "import matplotlib.pyplot as plt\n",
    "\n",
    "# Koordinat untuk setiap kata\n",
    "word_positions = {\n",
    "    \"Anjing\": (0.2, 0.3),\n",
    "    \"Serigala\": (0.2, 0.8),\n",
    "    \"Kucing\": (0.67, 0.3),\n",
    "    \"Harimau\": (0.8, 0.8)\n",
    "}\n",
    "\n",
    "# Membuat plot\n",
    "plt.figure(figsize=(4, 4))\n",
    "for word, (x, y) in word_positions.items():\n",
    "    plt.scatter(x, y, marker='x', color='black')\n",
    "    plt.text(x + 0.02, y, word, fontsize=10)\n",
    "\n",
    "# Setting sumbu\n",
    "plt.xticks([0, 1])\n",
    "plt.yticks([0, 1])\n",
    "plt.xlim(0, 1.1)\n",
    "plt.ylim(0, 1.1)\n",
    "plt.xlabel(\"X\")\n",
    "plt.ylabel(\"Y\")\n",
    "plt.title(\"A toy example of a word-embedding space\")\n",
    "plt.grid(False)\n",
    "plt.gca().set_aspect('equal', adjustable='box')\n",
    "plt.savefig(\"embedding_space.png\", dpi=300)\n",
    "plt.show()"
   ]
  },
  {
   "cell_type": "markdown",
   "id": "56cb7ed6",
   "metadata": {},
   "source": [
    "# membangun embedding layer"
   ]
  },
  {
   "cell_type": "code",
   "execution_count": 18,
   "id": "06466581",
   "metadata": {},
   "outputs": [],
   "source": [
    "import torch\n",
    "import torch.nn as nn\n",
    "from datasets import load_dataset\n",
    "from collections import defaultdict\n",
    "from torch.nn.utils.rnn import pad_sequence\n",
    "from torch.utils.data import DataLoader\n",
    "import re\n"
   ]
  },
  {
   "cell_type": "code",
   "execution_count": 19,
   "id": "f1d39f32",
   "metadata": {},
   "outputs": [],
   "source": [
    "def clean_text(text):\n",
    "    text = text.lower()\n",
    "    text = re.sub(r\"[^\\w\\s]\", \"\", text)\n",
    "    return text.split()\n",
    "\n",
    "def encode(text):\n",
    "    tokens = clean_text(text)\n",
    "    return torch.tensor([word2idx.get(token, word2idx[\"<unk>\"]) for token in tokens], dtype=torch.long)\n",
    "\n",
    "def collate_batch(batch):\n",
    "    texts = [encode(item[\"text\"]) for item in batch]\n",
    "    labels = torch.tensor([1 if item[\"label\"] == 1 else 0 for item in batch], dtype=torch.float32)\n",
    "    padded = pad_sequence(texts, batch_first=True, padding_value=word2idx[\"<pad>\"])\n",
    "    return padded, labels"
   ]
  },
  {
   "cell_type": "code",
   "execution_count": 20,
   "id": "5901aa1e",
   "metadata": {},
   "outputs": [
    {
     "data": {
      "application/vnd.jupyter.widget-view+json": {
       "model_id": "d350a3d0d30b49079b6e1f43741b56c6",
       "version_major": 2,
       "version_minor": 0
      },
      "text/plain": [
       "README.md:   0%|          | 0.00/7.81k [00:00<?, ?B/s]"
      ]
     },
     "metadata": {},
     "output_type": "display_data"
    },
    {
     "data": {
      "application/vnd.jupyter.widget-view+json": {
       "model_id": "1685fa54f65b44b7acf515c3400904b5",
       "version_major": 2,
       "version_minor": 0
      },
      "text/plain": [
       "train-00000-of-00001.parquet:   0%|          | 0.00/21.0M [00:00<?, ?B/s]"
      ]
     },
     "metadata": {},
     "output_type": "display_data"
    },
    {
     "data": {
      "application/vnd.jupyter.widget-view+json": {
       "model_id": "22c344967fc34ad59f56fc9a3e2e806f",
       "version_major": 2,
       "version_minor": 0
      },
      "text/plain": [
       "test-00000-of-00001.parquet:   0%|          | 0.00/20.5M [00:00<?, ?B/s]"
      ]
     },
     "metadata": {},
     "output_type": "display_data"
    },
    {
     "data": {
      "application/vnd.jupyter.widget-view+json": {
       "model_id": "4918bb635791414f91a2e551d6161ec2",
       "version_major": 2,
       "version_minor": 0
      },
      "text/plain": [
       "unsupervised-00000-of-00001.parquet:   0%|          | 0.00/42.0M [00:00<?, ?B/s]"
      ]
     },
     "metadata": {},
     "output_type": "display_data"
    },
    {
     "data": {
      "application/vnd.jupyter.widget-view+json": {
       "model_id": "44a150de162f437f9cad148cfb15e41b",
       "version_major": 2,
       "version_minor": 0
      },
      "text/plain": [
       "Generating train split:   0%|          | 0/25000 [00:00<?, ? examples/s]"
      ]
     },
     "metadata": {},
     "output_type": "display_data"
    },
    {
     "data": {
      "application/vnd.jupyter.widget-view+json": {
       "model_id": "23bf34533f6e4fd1b13c224d24f271fa",
       "version_major": 2,
       "version_minor": 0
      },
      "text/plain": [
       "Generating test split:   0%|          | 0/25000 [00:00<?, ? examples/s]"
      ]
     },
     "metadata": {},
     "output_type": "display_data"
    },
    {
     "data": {
      "application/vnd.jupyter.widget-view+json": {
       "model_id": "25e2bec6f617438589758db6d8dbe064",
       "version_major": 2,
       "version_minor": 0
      },
      "text/plain": [
       "Generating unsupervised split:   0%|          | 0/50000 [00:00<?, ? examples/s]"
      ]
     },
     "metadata": {},
     "output_type": "display_data"
    }
   ],
   "source": [
    "dataset = load_dataset(\"imdb\", split=\"train[:1%]\")  # hanya ambil 1% untuk cepat"
   ]
  },
  {
   "cell_type": "code",
   "execution_count": 21,
   "id": "9869013b",
   "metadata": {},
   "outputs": [],
   "source": [
    "token_freq = defaultdict(int)\n",
    "for item in dataset:\n",
    "    for word in clean_text(item[\"text\"]):\n",
    "        token_freq[word] += 1\n",
    "\n",
    "vocab_size = 10000\n",
    "sorted_tokens = sorted(token_freq.items(), key=lambda x: x[1], reverse=True)[:vocab_size-2]\n",
    "word2idx = {\"<pad>\": 0, \"<unk>\": 1}\n",
    "for i, (word, _) in enumerate(sorted_tokens, start=2):\n",
    "    word2idx[word] = i\n"
   ]
  },
  {
   "cell_type": "code",
   "execution_count": 22,
   "id": "bbef1c8f",
   "metadata": {},
   "outputs": [],
   "source": [
    "\n",
    "dataloader = DataLoader(dataset, batch_size=4, shuffle=True, collate_fn=collate_batch)\n",
    "\n",
    "embedding_dim = 64\n",
    "embedding_layer = nn.Embedding(vocab_size, embedding_dim, padding_idx=word2idx[\"<pad>\"])\n"
   ]
  },
  {
   "cell_type": "code",
   "execution_count": 23,
   "id": "34550524",
   "metadata": {},
   "outputs": [
    {
     "name": "stdout",
     "output_type": "stream",
     "text": [
      "Input shape: torch.Size([4, 861])\n",
      "Embedded shape: torch.Size([4, 861, 64])\n",
      "Embedded example:\n",
      " tensor([[-0.8764, -0.3231,  0.8998,  ...,  0.3514, -0.6742, -1.1679],\n",
      "        [ 0.7030,  0.3475,  0.9381,  ...,  1.4341, -0.1672,  1.1425],\n",
      "        [-0.2905, -0.4065,  0.1671,  ...,  0.8774,  0.1030, -0.9028],\n",
      "        ...,\n",
      "        [ 0.0000,  0.0000,  0.0000,  ...,  0.0000,  0.0000,  0.0000],\n",
      "        [ 0.0000,  0.0000,  0.0000,  ...,  0.0000,  0.0000,  0.0000],\n",
      "        [ 0.0000,  0.0000,  0.0000,  ...,  0.0000,  0.0000,  0.0000]],\n",
      "       grad_fn=<SelectBackward0>)\n"
     ]
    }
   ],
   "source": [
    "\n",
    "for x_batch, y_batch in dataloader:\n",
    "    embedded = embedding_layer(x_batch)\n",
    "    print(\"Input shape:\", x_batch.shape)\n",
    "    print(\"Embedded shape:\", embedded.shape)\n",
    "    print(\"Embedded example:\\n\", embedded[0])\n",
    "    break"
   ]
  },
  {
   "cell_type": "code",
   "execution_count": null,
   "id": "6fd9a39d",
   "metadata": {},
   "outputs": [],
   "source": []
  }
 ],
 "metadata": {
  "kernelspec": {
   "display_name": "Python 3 (ipykernel)",
   "language": "python",
   "name": "python3"
  },
  "language_info": {
   "codemirror_mode": {
    "name": "ipython",
    "version": 3
   },
   "file_extension": ".py",
   "mimetype": "text/x-python",
   "name": "python",
   "nbconvert_exporter": "python",
   "pygments_lexer": "ipython3",
   "version": "3.9.0"
  }
 },
 "nbformat": 4,
 "nbformat_minor": 5
}
